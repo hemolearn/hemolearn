{
  "cells": [
    {
      "cell_type": "code",
      "execution_count": null,
      "metadata": {
        "collapsed": false
      },
      "outputs": [],
      "source": [
        "%matplotlib inline"
      ]
    },
    {
      "cell_type": "markdown",
      "metadata": {},
      "source": [
        "\n# Real fMRI data example\n\nExample to recover the different neural temporal activities, the associated\nfunctional networks maps and the HRFs per ROIs in the fMRI data, on the ADHD\ndataset resting-state.\n    :depth: 1\n\n\n"
      ]
    },
    {
      "cell_type": "code",
      "execution_count": null,
      "metadata": {
        "collapsed": false
      },
      "outputs": [],
      "source": [
        "# Authors: Hamza Cherkaoui <hamza.cherkaoui@inria.fr>\n# License: BSD (3-clause)\n\nimport os\nimport time\nimport numpy as np\nfrom nilearn import datasets\n\nfrom hemolearn import SLRDA\nfrom hemolearn.utils import fmri_preprocess, sort_atoms_by_explained_variances\nfrom hemolearn.plotting import (plotting_spatial_comp, plotting_temporal_comp,\n                                plotting_hrf_stats)"
      ]
    },
    {
      "cell_type": "code",
      "execution_count": null,
      "metadata": {
        "collapsed": false
      },
      "outputs": [],
      "source": [
        "plot_dir = 'plots'\nif not os.path.exists(plot_dir):\n    os.makedirs(plot_dir)"
      ]
    },
    {
      "cell_type": "code",
      "execution_count": null,
      "metadata": {
        "collapsed": false
      },
      "outputs": [],
      "source": [
        "TR = 2.0\nadhd_dataset = datasets.fetch_adhd(n_subjects=1)\nfunc_fname = adhd_dataset.func[0]\nconfound_fname = adhd_dataset.confounds[0]\nX, _, _, _ = fmri_preprocess(func_fname, smoothing_fwhm=6.0, standardize=True,\n                             detrend=True, low_pass=0.1, high_pass=0.01, t_r=TR,\n                             memory='__cache__', verbose=0,\n                             confounds=confound_fname)\n\nseed = np.random.randint(0, 1000)\nprint(f'Seed used = {seed}')"
      ]
    },
    {
      "cell_type": "code",
      "execution_count": null,
      "metadata": {
        "collapsed": false
      },
      "outputs": [],
      "source": [
        "slrda = SLRDA(n_atoms=10, t_r=TR, n_times_atom=20,\n              hrf_model='scaled_hrf', lbda=0.9, max_iter=50,\n              eps=1.0e-3, deactivate_v_learning=False,\n              prox_u='l1-positive-simplex', raise_on_increase=True,\n              random_state=seed, n_jobs=1, cache_dir='__cache__',\n              nb_fit_try=1, verbose=0)\n\nt0 = time.time()\nslrda.fit(X)\ndelta_t = time.strftime(\"%H h %M min %S s\", time.gmtime(time.time() - t0))\nprint(\"Fitting done in {}\".format(delta_t))"
      ]
    },
    {
      "cell_type": "code",
      "execution_count": null,
      "metadata": {
        "collapsed": false
      },
      "outputs": [],
      "source": [
        "hrf_ref = slrda.v_init\nroi_label_from_hrf_idx = slrda.roi_label_from_hrf_idx\npobj, times, a_hat = slrda.lobj, slrda.ltime, slrda.a_hat\nv_hat = slrda.v_hat\nu_hat, z_hat, variances = sort_atoms_by_explained_variances(slrda.u_hat,\n                                                            slrda.z_hat,\n                                                            slrda.v_hat,\n                                                            slrda.hrf_rois)"
      ]
    },
    {
      "cell_type": "code",
      "execution_count": null,
      "metadata": {
        "collapsed": false
      },
      "outputs": [],
      "source": [
        "plotting_spatial_comp(u_hat, variances, slrda.masker_,\n                      plot_dir=plot_dir, perc_voxels_to_retain=0.1,\n                      fname='u.png', verbose=True)"
      ]
    },
    {
      "cell_type": "code",
      "execution_count": null,
      "metadata": {
        "collapsed": false
      },
      "outputs": [],
      "source": [
        "plotting_temporal_comp(z_hat, variances, TR, plot_dir=plot_dir,\n                       fname='z.png', verbose=True)"
      ]
    },
    {
      "cell_type": "code",
      "execution_count": null,
      "metadata": {
        "collapsed": false
      },
      "outputs": [],
      "source": [
        "plotting_hrf_stats(v=v_hat, t_r=TR, masker=slrda.masker_, hrf_ref=None,\n                   stat_type='fwhm', plot_dir=plot_dir, fname='v_fwhm.png',\n                   verbose=True)"
      ]
    }
  ],
  "metadata": {
    "kernelspec": {
      "display_name": "Python 3",
      "language": "python",
      "name": "python3"
    },
    "language_info": {
      "codemirror_mode": {
        "name": "ipython",
        "version": 3
      },
      "file_extension": ".py",
      "mimetype": "text/x-python",
      "name": "python",
      "nbconvert_exporter": "python",
      "pygments_lexer": "ipython3",
      "version": "3.6.9"
    }
  },
  "nbformat": 4,
  "nbformat_minor": 0
}