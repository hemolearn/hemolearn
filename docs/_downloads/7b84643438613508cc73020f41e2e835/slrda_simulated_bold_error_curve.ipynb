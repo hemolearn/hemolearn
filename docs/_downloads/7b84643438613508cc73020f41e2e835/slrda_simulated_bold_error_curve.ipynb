{
  "cells": [
    {
      "cell_type": "code",
      "execution_count": null,
      "metadata": {
        "collapsed": false
      },
      "outputs": [],
      "source": [
        "%matplotlib inline"
      ]
    },
    {
      "cell_type": "markdown",
      "metadata": {},
      "source": [
        "\n# EUSIPCO 2019 CHerkaoui et a.l. experimental reproduction\n\nExample to obtain the estimation error of each parameter of the model.\n    :depth: 1\n\n\n"
      ]
    },
    {
      "cell_type": "code",
      "execution_count": null,
      "metadata": {
        "collapsed": false
      },
      "outputs": [],
      "source": [
        "# Authors: Hamza Cherkaoui <hamza.cherkaoui@inria.fr>\n# License: BSD (3-clause)\n\nimport os\nimport time\nimport pickle\nimport numpy as np\nimport matplotlib.pyplot as plt\n\nfrom hemolearn.simulated_data import simulated_data\nfrom hemolearn.utils import get_unique_dirname\nfrom hemolearn.learn_u_z_v_multi import multi_runs_learn_u_z_v_multi\n\n\ndirname = get_unique_dirname(\"results_slrda_simu_curve_#\")\nif not os.path.exists(dirname):\n    os.makedirs(dirname)\n\nmean_min_Dz_errs, std_min_Dz_errs = [], []\nmean_min_u_errs, std_min_u_errs = [], []\nnb_trial = 100\nl_snr = [0.1, 0.5, 1.0, 5.0, 10.0, 15.0, 20.0]\nfor snr in l_snr:\n\n    t0 = time.time()\n\n    min_Dz_errs, min_u_errs = [], []\n    for _ in range(nb_trial):\n\n        TR = 1.0\n        n_voxels, n_atoms, n_times_valid, n_times_atom = 100, 2, 100, 30\n        noisy_X, _, u, v, z, hrf_rois = simulated_data(\n                                    n_voxels=n_voxels,\n                                    n_times_valid=n_times_valid,\n                                    n_times_atom=n_times_atom, snr=snr)\n\n        lbdas = np.linspace(0.1, 0.8, 20)\n        u_errs, Dz_errs = [], []\n        for lbda in lbdas:\n\n            try:\n                results = multi_runs_learn_u_z_v_multi(\n                        noisy_X, t_r=TR, hrf_rois=hrf_rois, n_atoms=n_atoms,\n                        deactivate_v_learning=True,\n                        prox_u='l1-positive-simplex',\n                        n_times_atom=n_times_atom, hrf_model='scaled_hrf',\n                        lbda_strategy='ratio', lbda=lbda,\n                        u_init_type='gaussian_noise', max_iter=30,\n                        get_obj=True, get_time=True, raise_on_increase=False,\n                        random_seed=None, n_jobs=4, nb_fit_try=4, verbose=0)\n\n            except AssertionError as e:\n                # lbda is too big...\n                continue\n            z_hat, _, u_hat, _, _, _, _, pobj, times = results\n\n            # rename all variables\n            u_0 = u[0, :]\n            u_1 = u[1, :]\n            z_0 = z[0, :]\n            z_1 = z[1, :]\n            u_0_hat = u_hat[0, :]\n            u_1_hat = u_hat[1, :]\n            z_0_hat = z_hat[0, :].T\n            z_1_hat = z_hat[1, :].T\n\n            # re-labelize each variable\n            prod_scal_0 = np.dot(z_0_hat.flat, z_0.T.flat)\n            prod_scal_1 = np.dot(z_0_hat.flat, z_1.T.flat)\n            if prod_scal_0 < prod_scal_1:\n                tmp = z_0_hat\n                z_0_hat = z_1_hat\n                z_1_hat = tmp\n                tmp = u_0_hat\n                u_0_hat = u_1_hat\n                u_1_hat = tmp\n\n            # error computation\n            Dz_0_err = np.linalg.norm(np.diff(z_0_hat) - np.diff(z_0))\n            Dz_1_err = np.linalg.norm(np.diff(z_1_hat) - np.diff(z_1))\n            Dz_err = 0.5 * (Dz_0_err + Dz_1_err)\n            u_0_err = np.linalg.norm(u_0_hat - u_0)\n            u_1_err = np.linalg.norm(u_1_hat - u_1)\n            u_err = 0.5 * (u_0_err + u_1_err)\n\n            Dz_errs.append(Dz_err)\n            u_errs.append(u_err)\n\n        min_Dz_err = np.min(Dz_errs)\n        min_u_err = np.min(u_errs)\n\n        min_Dz_errs.append(min_Dz_err)\n        min_u_errs.append(min_u_err)\n\n    mean_min_Dz_err = np.mean(min_Dz_errs)\n    std_min_Dz_err = np.std(min_Dz_errs)\n\n    mean_min_u_err = np.mean(min_u_errs)\n    std_min_u_err = np.std(min_u_errs)\n\n    mean_min_Dz_errs.append(mean_min_Dz_err)\n    std_min_Dz_errs.append(std_min_Dz_err)\n    mean_min_u_errs.append(mean_min_u_err)\n    std_min_u_errs.append(std_min_u_err)\n\n    delta_t = time.strftime(\"%M min %S s\", time.gmtime(time.time() - t0))\n\n    print(\"[case SNR={:.2e}dB], mean min Dz-error {:.2f} with std {:.2f}, \"\n          \"mean min u-error {:.2f} with std {:.2f}, c.t. : {}\".format(\n                                    snr, mean_min_Dz_err, std_min_Dz_err,\n                                    mean_min_u_err, std_min_u_err, delta_t))\n\nres = dict(mean_min_Dz_errs=mean_min_Dz_errs, std_min_Dz_errs=std_min_Dz_errs,\n           mean_min_u_errs=mean_min_u_errs, std_min_u_errs=std_min_u_errs)\nfilename = os.path.join(dirname, \"results.pkl\")\nprint(\"Pickling results under '{0}'\".format(filename))\nwith open(filename, \"wb\") as pfile:\n    pickle.dump(res, pfile)\n\nsnr = np.array(l_snr)\n\nfig, ax1 = plt.subplots(figsize=(7, 4))\nax1.set_xlabel(\"SNR [dB]\", fontsize=18)\nax1.set_ylabel(\"L2 error\", fontsize=18)\nplt.errorbar(snr[1:], mean_min_Dz_errs[1:], yerr=std_min_Dz_errs[1:],\n             color='black', linewidth=5.0, elinewidth=5.0)\nplt.xticks(snr)\nax1.tick_params(labelsize=15)\nplt.grid()\nplt.tight_layout()\nfilename = 'z_error.pdf'\nfilename = os.path.join(dirname, filename)\nprint(\"Saving error plot under {0}\".format(filename))\nplt.savefig(filename, dpi=150)\n\nfig, ax2 = plt.subplots(figsize=(7, 4))\nax2.set_xlabel(\"SNR [dB]\", fontsize=18)\nax2.set_ylabel(\"L2 error\", fontsize=18)\nplt.errorbar(snr[1:], mean_min_u_errs[1:], yerr=std_min_u_errs[1:],\n             color='black', linewidth=4.0, elinewidth=5.0)\nplt.xticks(snr)\nax2.tick_params(labelsize=15)\nplt.grid()\nplt.tight_layout()\nfilename = 'u_error_vs_snr.pdf'\nfilename = os.path.join(dirname, filename)\nprint(\"Saving error plot under {0}\".format(filename))\nplt.savefig(filename, dpi=150)\n\n\nfig, ax1 = plt.subplots(figsize=(8, 4))\nax1.set_xlabel(\"SNR [dB]\", fontsize=18)\nax1.set_ylabel(\"Dz l2 error\", fontsize=18)\nplt.errorbar(l_snr, mean_min_Dz_errs, yerr=std_min_Dz_errs, color='blue',\n             linewidth=3.0, elinewidth=4.0)\nplt.xticks(l_snr)\nax1.tick_params(labelsize=18)\nplt.tight_layout()\nfilename = 'z_error.pdf'\nfilename = os.path.join(dirname, filename)\nprint(\"Saving error plot under {0}\".format(filename))\nplt.savefig(filename, dpi=150)"
      ]
    }
  ],
  "metadata": {
    "kernelspec": {
      "display_name": "Python 3",
      "language": "python",
      "name": "python3"
    },
    "language_info": {
      "codemirror_mode": {
        "name": "ipython",
        "version": 3
      },
      "file_extension": ".py",
      "mimetype": "text/x-python",
      "name": "python",
      "nbconvert_exporter": "python",
      "pygments_lexer": "ipython3",
      "version": "3.6.9"
    }
  },
  "nbformat": 4,
  "nbformat_minor": 0
}