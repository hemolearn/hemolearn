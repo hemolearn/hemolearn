{
  "cells": [
    {
      "cell_type": "code",
      "execution_count": null,
      "metadata": {
        "collapsed": false
      },
      "outputs": [],
      "source": [
        "%matplotlib inline"
      ]
    },
    {
      "cell_type": "markdown",
      "metadata": {},
      "source": [
        "\n# Synthetic fMRI data example\n\nExample to recover the different neural temporal activities, the associated\nfunctional networks maps and the HRFs per ROIs in the fMRI data, on simulated\nfMRI data.\n    :depth: 1\n\n\n"
      ]
    },
    {
      "cell_type": "code",
      "execution_count": null,
      "metadata": {
        "collapsed": false
      },
      "outputs": [],
      "source": [
        "# Authors: Hamza Cherkaoui <hamza.cherkaoui@inria.fr>\n# License: BSD (3-clause)\n\nimport os\nimport subprocess\nimport time\nimport shutil\nimport pickle\nimport numpy as np\nimport matplotlib.pyplot as plt\n\nfrom hemolearn.simulated_data import simulated_data\nfrom hemolearn.learn_u_z_v_multi import multi_runs_learn_u_z_v_multi\nfrom hemolearn.utils import get_unique_dirname\nfrom hemolearn.plotting import plotting_obj_values\n\n\ndirname = get_unique_dirname(\"results_slrda_simu_#\")\nif not os.path.exists(dirname):\n    os.makedirs(dirname)\n\nprint(\"archiving '{0}' under '{1}'\".format(__file__, dirname))\nshutil.copyfile(__file__, os.path.join(dirname, __file__))\n\nTR = 1.0\nn_voxels, n_atoms, n_times_valid, n_times_atom, snr = 100, 2, 200, 30, 1.0\nnoisy_X, _, u, v, z, hrf_rois = simulated_data(n_voxels=n_voxels,\n                                               n_times_valid=n_times_valid,\n                                               n_times_atom=n_times_atom,\n                                               snr=snr)\n\nt0 = time.time()\nresults = multi_runs_learn_u_z_v_multi(\n                    noisy_X, t_r=TR, hrf_rois=hrf_rois, n_atoms=n_atoms,\n                    deactivate_v_learning=True, prox_u='l1-positive-simplex',\n                    n_times_atom=n_times_atom, hrf_model='scaled_hrf',\n                    lbda_strategy='ratio', lbda=0.5,\n                    u_init_type='gaussian_noise', max_iter=30, get_obj=True,\n                    get_time=True, raise_on_increase=False, random_seed=None,\n                    n_jobs=4, nb_fit_try=4, verbose=1)\nz_hat, _, u_hat, a_hat, v_hat, v_init, lbda, pobj, times = results\ndelta_t = time.strftime(\"%H h %M min %S s\", time.gmtime(time.time() - t0))\nprint(\"Fitting done in {}\".format(delta_t))\n\nu_0_true = u[0, :]\nu_1_true = u[1, :]\nz_0_true = z[0, :].T.ravel()\nz_1_true = z[1, :].T.ravel()\n\nu_0_hat = u_hat[0, :]\nu_1_hat = u_hat[1, :]\nz_0_hat = z_hat[0, :].T.ravel()\nz_1_hat = z_hat[1, :].T.ravel()\n\nprod_scal_0 = np.dot(z_0_hat, z_0_true)\nprod_scal_1 = np.dot(z_0_hat, z_1_true)\nif prod_scal_0 < prod_scal_1:\n    tmp = z_0_hat\n    z_0_hat = z_1_hat\n    z_1_hat = tmp\n    tmp = u_0_hat\n    u_0_hat = u_1_hat\n    u_1_hat = tmp\n\nres = dict(pobj=pobj, times=times, u_hat=u_hat, v_hat=v_hat, z_hat=z_hat)\nfilename = os.path.join(dirname, \"results.pkl\")\nprint(\"Pickling results under '{0}'\".format(filename))\nwith open(filename, \"wb\") as pfile:\n    pickle.dump(res, pfile)\n\n# z\nplt.figure(\"Temporal atoms\", figsize=(12, 5))\nplt.subplot(121)\nplt.plot(z_0_hat, lw=2.0, label=\"Est. atom\")\nplt.plot(z_0_true, linestyle='--', lw=2.0, label=\"True atom\")\nx_0 = noisy_X[np.where(u_0_true > 0)[0], :]\nx_0 /= np.repeat(np.max(np.abs(x_0), axis=1)[:, None], noisy_X.shape[1], 1)\nt = np.arange(noisy_X.shape[1])\nmean_0 = np.mean(x_0, axis=0)\nstd_0 = np.std(x_0, axis=0)\nborders_0 = (mean_0 - std_0, mean_0 + std_0)\nplt.plot(mean_0, color='k', lw=0.5, label=\"Observed BOLD\")\nplt.fill_between(t, borders_0[0], borders_0[1], alpha=0.2, color='k')\nplt.axhline(0.0, color='k', linewidth=0.5)\nplt.xticks([0, n_times_valid/2.0, n_times_valid], fontsize=20)\nplt.yticks([-1, 0, 1], fontsize=20)\nplt.xlabel(\"Time [time-frames]\", fontsize=20)\nplt.legend(ncol=2, loc='lower center', fontsize=17, framealpha=0.3)\nplt.title(\"First atom\", fontsize=20)\nplt.subplot(122)\nplt.plot(z_1_hat, lw=2.0, label=\"Est. atom\")\nplt.plot(z_1_true, linestyle='--', lw=2.0, label=\"True atom\")\nx_1 = noisy_X[np.where(u_1_true > 0)[0], :]\nx_1 /= np.repeat(np.max(np.abs(x_1), axis=1)[:, None], noisy_X.shape[1], 1)\nmean_1 = np.mean(x_1, axis=0)\nstd_1 = np.std(x_1, axis=0)\nborders_1 = (mean_1 - std_1, mean_1 + std_1)\nplt.plot(mean_1, color='k', lw=0.5, label=\"Observed BOLD\")\nplt.fill_between(t, borders_1[0], borders_1[1], alpha=0.2, color='k')\nplt.axhline(0.0, color='k', linewidth=0.5)\nplt.xticks([0, n_times_valid/2.0, n_times_valid], fontsize=20)\nplt.yticks([-1, 0, 1], fontsize=20)\nplt.xlabel(\"Time [time-frames]\", fontsize=20)\nplt.legend(ncol=2, loc='lower center', fontsize=17, framealpha=0.3)\nplt.title(\"Second atom\", fontsize=20)\nplt.tight_layout()\nfilename = \"z.pdf\"\nfilename = os.path.join(dirname, filename)\nplt.savefig(filename, dpi=150)\nsubprocess.call(\"pdfcrop {}\".format(filename), shell=True)\nos.rename(filename.split('.')[0]+'-crop.pdf', filename)\nprint(\"Saving plot under '{0}'\".format(filename))\n\n# u\nfig, axes = plt.subplots(nrows=1, ncols=4)\nlen_square = int(np.sqrt(n_voxels))\nl_u = [u_0_true.reshape(len_square, len_square),\n       u_0_hat.reshape(len_square, len_square),\n       u_1_true.reshape(len_square, len_square),\n       u_1_hat.reshape(len_square, len_square)]\nl_max_u = [np.max(u) for u in l_u]\nmax_u = np.max(l_max_u)\namax_u = np.argmax(l_max_u)\nl_name = [\"True map 1\", \"Est. map 1\", \"True map 2\", \"Est. map 2\"]\nl_im = []\nfor ax, u, name in zip(axes.flat, l_u, l_name):\n    l_im.append(ax.matshow(u))\n    ax.set_title(name, fontsize=10)\n    ax.set_xticks([])\n    ax.set_yticks([])\nfig.subplots_adjust(bottom=0.1, top=0.5, left=0.1, right=0.8,\n                    wspace=0.3, hspace=0.2)\ncbar_ax = fig.add_axes([0.83, 0.2, 0.02, 0.2])\ncbar = fig.colorbar(l_im[amax_u], cax=cbar_ax)\ncbar.set_ticks(np.linspace(0.0, max_u, 3))\nfilename = \"u.pdf\"\nfilename = os.path.join(dirname, filename)\nplt.savefig(filename, dpi=150)\nsubprocess.call(\"pdfcrop {}\".format(filename), shell=True)\nos.rename(filename.split('.')[0]+'-crop.pdf', filename)\nprint(\"Saving plot under '{0}'\".format(filename))\n\n# pobj\nplotting_obj_values(times, pobj, plot_dir=dirname, verbose=True)"
      ]
    }
  ],
  "metadata": {
    "kernelspec": {
      "display_name": "Python 3",
      "language": "python",
      "name": "python3"
    },
    "language_info": {
      "codemirror_mode": {
        "name": "ipython",
        "version": 3
      },
      "file_extension": ".py",
      "mimetype": "text/x-python",
      "name": "python",
      "nbconvert_exporter": "python",
      "pygments_lexer": "ipython3",
      "version": "3.6.9"
    }
  },
  "nbformat": 4,
  "nbformat_minor": 0
}