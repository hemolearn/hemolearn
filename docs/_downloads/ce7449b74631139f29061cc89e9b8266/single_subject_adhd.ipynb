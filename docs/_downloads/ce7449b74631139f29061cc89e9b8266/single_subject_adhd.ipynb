{
  "cells": [
    {
      "cell_type": "code",
      "execution_count": null,
      "metadata": {
        "collapsed": false
      },
      "outputs": [],
      "source": [
        "%matplotlib inline"
      ]
    },
    {
      "cell_type": "markdown",
      "metadata": {},
      "source": [
        "\n# SyntaxError\n\nExample script with invalid Python syntax\n\n"
      ]
    },
    {
      "cell_type": "code",
      "execution_count": null,
      "metadata": {
        "collapsed": false
      },
      "outputs": [],
      "source": [
        "\"\"\"\nEUSIPCO 2019 CHerkaoui et a.l. experimental reproduction\n========================================================\n\nExample to recover the different neural temporal activities, the associated\nfunctional networks maps and the HRFs per ROIs in the fMRI data, on the ADHD\ndataset resting-state.\n\n.. contents:: **Contents**\n    :local:\n    :depth: 1\n\n\"\"\"\n# Authors: Hamza Cherkaoui <hamza.cherkaoui@inria.fr>\n# License: BSD (3-clause)\n\nimport os\nimport time\nimport pickle\nfrom nilearn import datasets\n\nfrom hemolearn import SLRDA\nfrom hemolearn.utils import (fmri_preprocess, get_unique_dirname,\n                             sort_atoms_by_explained_variances)\nfrom hemolearn.plotting import (plotting_spatial_comp, plotting_temporal_comp,\n                                plotting_obj_values)"
      ]
    },
    {
      "cell_type": "code",
      "execution_count": null,
      "metadata": {
        "collapsed": false
      },
      "outputs": [],
      "source": [
        "dirname = get_unique_dirname(\"results_slrda_adhd_#\")\nif not os.path.exists(dirname):\n    os.makedirs(dirname)"
      ]
    },
    {
      "cell_type": "code",
      "execution_count": null,
      "metadata": {
        "collapsed": false
      },
      "outputs": [],
      "source": [
        "TR = 2.0\nadhd_dataset = datasets.fetch_adhd(n_subjects=1)\nfunc_fname = adhd_dataset.func[0]\nconfound_fname = adhd_dataset.confounds[0]\nX, _, _, _ = = fmri_preprocess(func_fname, smoothing_fwhm=6.0,\n                               standardize=True, detrend=True, low_pass=0.1,\n                               high_pass=0.01, t_r=TR, memory='.cache',\n                               verbose=0, confounds=confound_fname)\nseed = None\nn_atoms = 20\nhrf_atlas = 'scale007'"
      ]
    },
    {
      "cell_type": "code",
      "execution_count": null,
      "metadata": {
        "collapsed": false
      },
      "outputs": [],
      "source": [
        "slrda = SLRDA(n_atoms=n_atoms, t_r=TR, hrf_atlas=hrf_atlas, n_times_atom=20,\n              hrf_model='scaled_hrf', lbda=0.6, max_iter=100, eps=1.0e-3,\n              deactivate_v_learning=True, prox_u='l1-positive-simplex',\n              raise_on_increase=False, random_state=seed, n_jobs=1,\n              nb_fit_try=1, verbose=2)\n\nt0 = time.time()\nslrda.fit(X)\ndelta_t = time.strftime(\"%H h %M min %S s\", time.gmtime(time.time() - t0))\nprint(\"Fitting done in {}\".format(delta_t))"
      ]
    },
    {
      "cell_type": "code",
      "execution_count": null,
      "metadata": {
        "collapsed": false
      },
      "outputs": [],
      "source": [
        "hrf_ref, roi_label_from_hrf_idx = slrda.v_init, slrda.roi_label_from_hrf_idx\npobj, times, a_hat, v_hat = slrda.lobj, slrda.ltime, slrda.a_hat, slrda.v_hat\nu_hat, z_hat, variances = sort_atoms_by_explained_variances(slrda.u_hat,\n                                                            slrda.z_hat,\n                                                            slrda.v_hat,\n                                                            slrda.hrf_rois)\n\nres = dict(pobj=pobj, times=times, u_hat=u_hat, v_hat=v_hat, z_hat=z_hat)\nfilename = os.path.join(dirname, \"results.pkl\")\nprint(\"Pickling results under '{0}'\".format(filename))\nwith open(filename, \"wb\") as pfile:\n    pickle.dump(res, pfile)"
      ]
    },
    {
      "cell_type": "code",
      "execution_count": null,
      "metadata": {
        "collapsed": false
      },
      "outputs": [],
      "source": [
        "plotting_spatial_comp(u_hat, variances, slrda.masker_, plot_dir=dirname,\n                      perc_voxels_to_retain=0.1, verbose=True)\nplotting_temporal_comp(z_hat, variances, TR, plot_dir=dirname, verbose=True)\nplotting_obj_values(times, pobj, plot_dir=dirname, verbose=True)"
      ]
    }
  ],
  "metadata": {
    "kernelspec": {
      "display_name": "Python 3",
      "language": "python",
      "name": "python3"
    },
    "language_info": {
      "codemirror_mode": {
        "name": "ipython",
        "version": 3
      },
      "file_extension": ".py",
      "mimetype": "text/x-python",
      "name": "python",
      "nbconvert_exporter": "python",
      "pygments_lexer": "ipython3",
      "version": "3.6.9"
    }
  },
  "nbformat": 4,
  "nbformat_minor": 0
}